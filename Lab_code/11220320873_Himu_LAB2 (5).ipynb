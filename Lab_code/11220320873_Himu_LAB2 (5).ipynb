{
  "nbformat": 4,
  "nbformat_minor": 0,
  "metadata": {
    "colab": {
      "provenance": []
    },
    "kernelspec": {
      "name": "python3",
      "display_name": "Python 3"
    },
    "language_info": {
      "name": "python"
    }
  },
  "cells": [
    {
      "cell_type": "code",
      "execution_count": 1,
      "metadata": {
        "colab": {
          "base_uri": "https://localhost:8080/"
        },
        "id": "c-VJ7JuVmtZl",
        "outputId": "87c91730-bfa8-4db9-ddb2-46459c7d9f2e"
      },
      "outputs": [
        {
          "output_type": "stream",
          "name": "stdout",
          "text": [
            "Enter your Name:Himu\n",
            "Enter your ID:873\n",
            "Name: Himu\n",
            "ID: 873\n"
          ]
        }
      ],
      "source": [
        "#Write a code to print your name and id\n",
        "#taking input name and id\n",
        "\n",
        "name=input(\"Enter your Name:\")\n",
        "id=int(input(\"Enter your ID:\"))\n",
        "#print output\n",
        "print(\"Name:\",name)\n",
        "print(\"ID:\",id)"
      ]
    },
    {
      "cell_type": "code",
      "source": [
        "id=int(input(\"Enter your ID:\"))\n",
        "last_three_digits = id % 1000\n",
        "if last_three_digits > 500:\n",
        "  print(\"My ID is more than 500\")\n",
        "else:\n",
        "  print(\"My ID is not more than 500\")"
      ],
      "metadata": {
        "colab": {
          "base_uri": "https://localhost:8080/"
        },
        "id": "98NBs0GUodJg",
        "outputId": "6afc1aef-bfdc-4b5b-8a88-d9cfa375e8f4"
      },
      "execution_count": 14,
      "outputs": [
        {
          "output_type": "stream",
          "name": "stdout",
          "text": [
            "Enter your ID:11220320873\n",
            "My ID is more than 500\n"
          ]
        }
      ]
    },
    {
      "cell_type": "code",
      "source": [
        "name = \"Himu\"\n",
        "id = 873\n",
        "salary = 5000\n",
        "student = True\n",
        "collections_car = (\"BMW\",\"Mustang\")\n",
        "list = [name,id,salary,student,collections_car]\n",
        "for var in list:\n",
        "  print(\"variable name:\",var,\"the type is :\",type(var))"
      ],
      "metadata": {
        "colab": {
          "base_uri": "https://localhost:8080/"
        },
        "id": "wZcPAbeXyJ5A",
        "outputId": "ac2f1f5b-6e8a-49f9-bd4c-d3c333a55dd6"
      },
      "execution_count": 15,
      "outputs": [
        {
          "output_type": "stream",
          "name": "stdout",
          "text": [
            "variable name: Himu the type is : <class 'str'>\n",
            "variable name: 873 the type is : <class 'int'>\n",
            "variable name: 5000 the type is : <class 'int'>\n",
            "variable name: True the type is : <class 'bool'>\n",
            "variable name: ('BMW', 'Mustang') the type is : <class 'tuple'>\n"
          ]
        }
      ]
    },
    {
      "cell_type": "code",
      "source": [
        "def delete_car(lst, car):\n",
        "    if car in lst:\n",
        "        lst.remove(car)\n",
        "        print(f\"After deleting {car}:\", lst)\n",
        "    else:\n",
        "        print(f\"{car} is not in the list.\")\n",
        "\n",
        "\n",
        "cars = [\"Ford\", \"Volvo\", \"BMW\"]\n",
        "\n",
        "# adding honda\n",
        "cars.append(\"Honda\")\n",
        "cars.insert(2,\"Mustang\") # adding in index wise\n",
        "cars.extend([\"Mercedes\", \"Nissan\"])  # Adds elements from another list to the end\n",
        "print(\"After adding the list is:\", cars)\n",
        "\n",
        "\n",
        "#  deleting\n",
        "\n",
        "# Deleting Volvo using function\n",
        "delete_car(cars, \"Volvo\")\n",
        "cars.remove(\"Ford\")\n",
        "print(\"After deleting Ford\", cars)"
      ],
      "metadata": {
        "colab": {
          "base_uri": "https://localhost:8080/"
        },
        "id": "VQq6jmkDznm2",
        "outputId": "90bf2134-8c81-491e-bc2d-f45d05cad8d4"
      },
      "execution_count": 20,
      "outputs": [
        {
          "output_type": "stream",
          "name": "stdout",
          "text": [
            "After adding the list is: ['Ford', 'Volvo', 'Mustang', 'BMW', 'Honda', 'Mercedes', 'Nissan']\n",
            "After deleting Volvo: ['Ford', 'Mustang', 'BMW', 'Honda', 'Mercedes', 'Nissan']\n",
            "After deleting Ford ['Mustang', 'BMW', 'Honda', 'Mercedes', 'Nissan']\n"
          ]
        }
      ]
    },
    {
      "cell_type": "code",
      "source": [
        "names = input(\"Enter your name:\")\n",
        "\n",
        "times = int(input(\"How many times you want to print:\"))\n",
        "\n",
        "# for loop\n",
        "print(\"Printing names using for loop\")\n",
        "for i in range(times):\n",
        "    print(\"count \",i+1,\" : \", names)\n",
        "\n",
        "# while loop\n",
        "print(\"Printing names using while loop\")\n",
        "count = 1\n",
        "while times>0:\n",
        "    print(\"count \",count, \" : \",names)\n",
        "    times -=1\n",
        "    count +=1"
      ],
      "metadata": {
        "colab": {
          "base_uri": "https://localhost:8080/"
        },
        "id": "__fxXCye3hxs",
        "outputId": "59083c86-9602-48c9-e9b5-e4072ff411c8"
      },
      "execution_count": 21,
      "outputs": [
        {
          "output_type": "stream",
          "name": "stdout",
          "text": [
            "Enter your name:Himu\n",
            "How many times you want to print:5\n",
            "Printing names using for loop\n",
            "count  1  :  Himu\n",
            "count  2  :  Himu\n",
            "count  3  :  Himu\n",
            "count  4  :  Himu\n",
            "count  5  :  Himu\n",
            "Printing names using while loop\n",
            "count  1  :  Himu\n",
            "count  2  :  Himu\n",
            "count  3  :  Himu\n",
            "count  4  :  Himu\n",
            "count  5  :  Himu\n"
          ]
        }
      ]
    },
    {
      "cell_type": "code",
      "source": [
        "import matplotlib.pyplot as plt\n",
        "\n",
        "# define the coordinates of the line\n",
        "x = [1, 2, 3, 4, 5]\n",
        "y = [10, 8, 6, 4, 2]\n",
        "\n",
        "# plot the line\n",
        "plt.plot(x,y)\n",
        "\n",
        "# add the level and title\n",
        "plt.xlabel(\"X-axis\")\n",
        "plt.ylabel(\"Y-axis\")\n",
        "plt.title(\"Straight line \")\n",
        "\n",
        "# display it\n",
        "plt.show()"
      ],
      "metadata": {
        "id": "W7U4PcPB3_K9",
        "outputId": "ba95946a-f065-4d5b-cdf8-dea372eaf5ff",
        "colab": {
          "base_uri": "https://localhost:8080/",
          "height": 472
        }
      },
      "execution_count": 22,
      "outputs": [
        {
          "output_type": "display_data",
          "data": {
            "text/plain": [
              "<Figure size 640x480 with 1 Axes>"
            ],
            "image/png": "[encoded data removed]"
          },
          "metadata": {}
        }
      ]
    }
  ]
}